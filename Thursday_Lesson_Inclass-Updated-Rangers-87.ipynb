{
 "cells": [
  {
   "cell_type": "markdown",
   "metadata": {},
   "source": [
    "# User-Defined Functions, Scoping & Decorators"
   ]
  },
  {
   "cell_type": "markdown",
   "metadata": {},
   "source": [
    "## Tasks Today:\n",
    "\n",
    "\n",
    "1) Functions <br>\n",
    " &nbsp;&nbsp;&nbsp;&nbsp; a) User-Defined vs. Built-In Functions <br>\n",
    " &nbsp;&nbsp;&nbsp;&nbsp; b) Accepting Parameters <br>\n",
    " &nbsp;&nbsp;&nbsp;&nbsp; c) Default Parameters <br>\n",
    " &nbsp;&nbsp;&nbsp;&nbsp; d) Making an Argument Optional <br>\n",
    " &nbsp;&nbsp;&nbsp;&nbsp; e) Keyword Arguments <br>\n",
    " &nbsp;&nbsp;&nbsp;&nbsp; f) Returning Values <br>\n",
    " &nbsp;&nbsp;&nbsp;&nbsp; g) *args <br>\n",
    " &nbsp;&nbsp;&nbsp;&nbsp; h) Docstring <br>\n",
    " &nbsp;&nbsp;&nbsp;&nbsp; i) Using a User Function in a Loop <br>\n",
    "2) Scope\n",
    "3) Creating more User-Defined functions \n",
    "4) Decorators"
   ]
  },
  {
   "cell_type": "markdown",
   "metadata": {},
   "source": [
    "\n",
    "## Functions"
   ]
  },
  {
   "cell_type": "markdown",
   "metadata": {},
   "source": [
    "##### User-Defined vs. Built-In Functions"
   ]
  },
  {
   "cell_type": "code",
   "execution_count": 4,
   "metadata": {},
   "outputs": [
    {
     "name": "stdout",
     "output_type": "stream",
     "text": [
      "Hello\n",
      "<function say_hello at 0x0000026208ABB4C0>\n",
      "Hello world\n"
     ]
    }
   ],
   "source": [
    "# Built in function\n",
    "print(\"Hello\")\n",
    "\n",
    "# User-Defined Function\n",
    "def say_hello():\n",
    "    return \"Hello world\"\n",
    "\n",
    "#show the function in memory \n",
    "print(say_hello)\n",
    "\n",
    "#calling  function\n",
    "print(say_hello())"
   ]
  },
  {
   "cell_type": "markdown",
   "metadata": {},
   "source": [
    "##### Accepting Parameters"
   ]
  },
  {
   "cell_type": "code",
   "execution_count": 8,
   "metadata": {
    "scrolled": true
   },
   "outputs": [
    {
     "name": "stdout",
     "output_type": "stream",
     "text": [
      "Hello my full name is Terrell McKinney.\n",
      "Hello my full name is McKinney Terrell.\n"
     ]
    }
   ],
   "source": [
    "# Order matters\n",
    "# a variable (parameter) can be any type of object\n",
    "\n",
    "first = \"Terrell\"\n",
    "last = \"McKinney\"\n",
    "\n",
    "def print_full_name(first_name, last_name):\n",
    "    return f\"Hello my full name is {first_name} {last_name}.\"\n",
    "\n",
    "print(print_full_name(first,last))\n",
    "print(print_full_name(last,first))"
   ]
  },
  {
   "cell_type": "markdown",
   "metadata": {},
   "source": [
    "##### Default Parameters"
   ]
  },
  {
   "cell_type": "code",
   "execution_count": 13,
   "metadata": {},
   "outputs": [
    {
     "ename": "SyntaxError",
     "evalue": "non-default argument follows default argument (4033016362.py, line 10)",
     "output_type": "error",
     "traceback": [
      "\u001b[1;36m  Input \u001b[1;32mIn [13]\u001b[1;36m\u001b[0m\n\u001b[1;33m    def agent_name_again(last_name = \"Bond\", first_name)\u001b[0m\n\u001b[1;37m                                                       ^\u001b[0m\n\u001b[1;31mSyntaxError\u001b[0m\u001b[1;31m:\u001b[0m non-default argument follows default argument\n"
     ]
    }
   ],
   "source": [
    "# Default parameters must come after non-default parameters at all times\n",
    "def agent_name(first_name, last_name = 'Bond'):\n",
    "    return f\"The name is {last_name} ... {first_name} {last_name}.\"\n",
    "\n",
    "print(agent_name(\"James\"))\n",
    "print(agent_name(\"James\", last_name = \"Fiorelli\"))\n",
    "print(agent_name(\"Jimmy\"))\n",
    "\n",
    "# dont do this\n",
    "# def agent_name_again(last_name = \"Bond\", first_name):\n",
    "#     return f\"The name is {last_name}... {first_name} {last_name}.\"\n",
    "#     print(agent_name_again(\"Jimbo\"))  "
   ]
  },
  {
   "cell_type": "code",
   "execution_count": 16,
   "metadata": {},
   "outputs": [
    {
     "name": "stdout",
     "output_type": "stream",
     "text": [
      "Your birthday is the 24th day of March and you were born in 1960!\n",
      "Your birthday is the 24th day of April and you were born in 1960!\n"
     ]
    }
   ],
   "source": [
    "def march_bday(day, year, month = \"March\"):\n",
    "    return f\"Your birthday is the {day}th day of {month} and you were born in {year}!\"\n",
    "print(march_bday(24,1960))\n",
    "print(march_bday(24,1960, \"April\"))"
   ]
  },
  {
   "cell_type": "markdown",
   "metadata": {},
   "source": [
    "##### Making an Argument Optional"
   ]
  },
  {
   "cell_type": "code",
   "execution_count": 18,
   "metadata": {},
   "outputs": [
    {
     "name": "stdout",
     "output_type": "stream",
     "text": [
      "Hello Mr.  Ed\n",
      "Hello Sea Biscut Ed\n"
     ]
    }
   ],
   "source": [
    "def horse_name(first, middle='', last='Ed'):\n",
    "    return f\"Hello {first} {middle} {last}\"\n",
    "print(horse_name('Mr.'))\n",
    "print(horse_name(\"Sea\",\"Biscuit\"))"
   ]
  },
  {
   "cell_type": "markdown",
   "metadata": {},
   "source": [
    "##### Keyword Arguments"
   ]
  },
  {
   "cell_type": "code",
   "execution_count": 22,
   "metadata": {},
   "outputs": [
    {
     "name": "stdout",
     "output_type": "stream",
     "text": [
      "Bruce's power is Money.\n"
     ]
    }
   ],
   "source": [
    "# you can access an argument by it's keyword of the original order\n",
    "def hero(name,power = 'flying'):\n",
    "    return f\"{name}'s power is {power}.\"\n",
    "print(hero(power='Money',name='Bruce'))"
   ]
  },
  {
   "cell_type": "code",
   "execution_count": null,
   "metadata": {},
   "outputs": [],
   "source": [
    "## Create a function (or two) that accepts positional, default, and optional arguments"
   ]
  },
  {
   "cell_type": "code",
   "execution_count": 36,
   "metadata": {},
   "outputs": [
    {
     "name": "stdout",
     "output_type": "stream",
     "text": [
      "tony's go to trick is heel flip\n",
      "I want to get a yellow shirt\n"
     ]
    }
   ],
   "source": [
    "# PRACTICE\n",
    "\n",
    "def skaters(name,trick = 'kickflip'):\n",
    "    return f\"{name}'s go to trick is {trick}\"\n",
    "print(skaters('tony', 'heel flip'))\n",
    "\n",
    "def shopping(color, item='shirt'):\n",
    "    return f\"I want to get a {color} {item}\"\n",
    "print(shopping('yellow'))"
   ]
  },
  {
   "cell_type": "markdown",
   "metadata": {},
   "source": [
    "# Creating a start, stop, step function"
   ]
  },
  {
   "cell_type": "code",
   "execution_count": 37,
   "metadata": {},
   "outputs": [
    {
     "name": "stdout",
     "output_type": "stream",
     "text": [
      "2\n",
      "5\n",
      "8\n",
      "11\n"
     ]
    }
   ],
   "source": [
    "def my_range(stop, start = 0, step = 1):\n",
    "    for i in range(start,stop,step):\n",
    "        print(i)\n",
    "my_range(13,2,3)\n",
    "# counting up to 13 starting at 2 going up by 3"
   ]
  },
  {
   "cell_type": "markdown",
   "metadata": {},
   "source": [
    "##### Returning Values"
   ]
  },
  {
   "cell_type": "code",
   "execution_count": 38,
   "metadata": {},
   "outputs": [
    {
     "data": {
      "text/plain": [
       "100"
      ]
     },
     "execution_count": 38,
     "metadata": {},
     "output_type": "execute_result"
    }
   ],
   "source": [
    "def add_nums(num1, num2):\n",
    "    return num1 + num2\n",
    "add_nums(56,44)"
   ]
  },
  {
   "cell_type": "markdown",
   "metadata": {},
   "source": [
    "##### *args / **kwargs (keyword arguments)"
   ]
  },
  {
   "cell_type": "code",
   "execution_count": 39,
   "metadata": {},
   "outputs": [
    {
     "name": "stdout",
     "output_type": "stream",
     "text": [
      "1\n",
      "(10, 'megazord')\n",
      "{'trekies': ['Warf', 'Data'], 'subject': 'Python'}\n"
     ]
    }
   ],
   "source": [
    "def pirates(num1, *args, **kwargs):\n",
    "    print(num1)\n",
    "    print(args)\n",
    "    print(kwargs)\n",
    "\n",
    "pirates(1, 10, \"megazord\", trekies = ['Warf','Data',], subject = 'Python')\n",
    "\n"
   ]
  },
  {
   "cell_type": "code",
   "execution_count": 44,
   "metadata": {},
   "outputs": [
    {
     "name": "stdout",
     "output_type": "stream",
     "text": [
      "Naruto\n",
      "Naruto\n",
      "Naruto\n",
      "Naruto\n",
      "Naruto\n",
      "Naruto\n",
      "Naruto\n",
      "('Kurma', 'Gyuki', 'Shukaku')\n",
      "{'ninja_clans': ['Hyuga', 'Uchiha', 'Uzumaki']}\n"
     ]
    }
   ],
   "source": [
    "# Write a function that accepts args and kwargs and print out each arg and kwargs on its own line.\n",
    "\n",
    "def anime(favorite, *args, **kwargs):\n",
    "    print(favorite)\n",
    "    print(args)\n",
    "    print(kwargs)\n",
    "\n",
    "anime('Naruto', 'Kurma', 'Gyuki', 'Shukaku', ninja_clans = ['Hyuga','Uchiha','Uzumaki']) "
   ]
  },
  {
   "cell_type": "markdown",
   "metadata": {},
   "source": [
    "##### Docstring"
   ]
  },
  {
   "cell_type": "code",
   "execution_count": 46,
   "metadata": {},
   "outputs": [
    {
     "name": "stdout",
     "output_type": "stream",
     "text": [
      "Sylvester\n",
      "Tweety\n"
     ]
    }
   ],
   "source": [
    "def print_names(list_1):\n",
    "    \"\"\"\n",
    "        print_names(list_1)\n",
    "        function requires a list to be passed as a parameter\n",
    "        and will print the contents of the list. Expecting\n",
    "        a list of names(strings) to be passed.\n",
    "    \"\"\"\n",
    "    for name in list_1:\n",
    "        print(name)\n",
    "\n",
    "print_names(['Sylvester','Tweety'])"
   ]
  },
  {
   "cell_type": "markdown",
   "metadata": {},
   "source": [
    "##### Using a User Function in a Loop"
   ]
  },
  {
   "cell_type": "code",
   "execution_count": 47,
   "metadata": {},
   "outputs": [
    {
     "name": "stdout",
     "output_type": "stream",
     "text": [
      "your answer is : i dont know\n",
      "your answer is : eat\n"
     ]
    }
   ],
   "source": [
    "def print_input(answer):\n",
    "    print(f\"your answer is : {answer}\")\n",
    "\n",
    "while True:\n",
    "    ask = input(\"What do you want to do? \")\n",
    "\n",
    "    print_input(ask)\n",
    "    response = input(\"Ready to quit?\")\n",
    "    if response.lower() == 'yes':\n",
    "        break"
   ]
  },
  {
   "cell_type": "markdown",
   "metadata": {},
   "source": [
    "## Function Exercises <br>\n",
    "### Exercise 1\n",
    "<p>Write a function that loops through a list of first_names and a list of last_names, combines the two and return a list of full_names</p>"
   ]
  },
  {
   "cell_type": "code",
   "execution_count": 65,
   "metadata": {},
   "outputs": [
    {
     "data": {
      "text/plain": [
       "['John Smith', 'Evan Smith', 'Jordan Williams', 'Max Bell']"
      ]
     },
     "execution_count": 65,
     "metadata": {},
     "output_type": "execute_result"
    }
   ],
   "source": [
    "first_name = ['John', 'Evan', 'Jordan', 'Max']\n",
    "last_name = ['Smith', 'Smith', 'Williams', 'Bell']\n",
    "# Output: ['John Smith', 'Evan Smith', 'Jordan Williams', 'Max Bell']\n",
    "\n",
    "def full_name(first_name, last_name):\n",
    "    list_of_names = []\n",
    "    for i in range(len(first_name)):\n",
    "        full_name = first_name[i] + \" \" + last_name[i]\n",
    "        list_of_names.append(full_name)\n",
    "    print(list_of_names)\n",
    "\n",
    "\n",
    "def full_name(first_name, last_name):\n",
    "\n",
    "    return [first_name[i] + \" \" + last_name[i] for i in range(len(first_name))]\n",
    "    \n",
    "full_name(first_name, last_name)\n",
    "\n"
   ]
  },
  {
   "cell_type": "markdown",
   "metadata": {},
   "source": [
    "### Exercise 2\n",
    "Create a function that alters all values in the given list by subtracting 5 and then doubling them."
   ]
  },
  {
   "cell_type": "code",
   "execution_count": 67,
   "metadata": {},
   "outputs": [],
   "source": [
    "input_list = [5,10,15,20,3]\n",
    "# output = [0,10,20,30,-4]\n",
    "def func(input_list):\n",
    "    return [(x-5)*2 for x in input_list]\n",
    "func(input_list)\n",
    "\n",
    "def func2(input_list):\n",
    "    new_l = []\n",
    "    for x in input_list:\n",
    "        new_l.append((x-5)*2)\n",
    "\n",
    "func2(input_list)\n",
    "\n",
    "\n"
   ]
  },
  {
   "cell_type": "markdown",
   "metadata": {},
   "source": [
    "### Exercise 2 BONUS\n",
    "Create a function that alters all values in the given list with a second function taken as parameter."
   ]
  },
  {
   "cell_type": "code",
   "execution_count": 68,
   "metadata": {},
   "outputs": [
    {
     "data": {
      "text/plain": [
       "[0, 10, 20, 30, -4]"
      ]
     },
     "execution_count": 68,
     "metadata": {},
     "output_type": "execute_result"
    }
   ],
   "source": [
    "input_list = [5,10,15,20,3]\n",
    "# output = [0,10,20,30,-4]\n",
    "\n",
    "def func2(value):\n",
    "    return (value - 5) * 2\n",
    "\n",
    "def list_item_add(a_list, function):\n",
    "    return [function(x) for x in a_list]\n",
    "\n",
    "list_item_add(input_list, func2)\n"
   ]
  },
  {
   "cell_type": "markdown",
   "metadata": {},
   "source": [
    "### Exercise 3\n",
    "Create a function that takes in a list of strings and filters out the strings that DO NOT contain vowels. "
   ]
  },
  {
   "cell_type": "code",
   "execution_count": 73,
   "metadata": {},
   "outputs": [
    {
     "name": "stdout",
     "output_type": "stream",
     "text": [
      "['Sheldon', 'Leonard', 'Amy']\n"
     ]
    }
   ],
   "source": [
    "string_list = ['Sheldon','Pnny','Leonard','Hwrd','Rj','Amy','Strt']\n",
    "# output = ['Sheldon','Leonard','Amy']\n",
    "\n",
    "def vowels(a_list):\n",
    "    new_list = []\n",
    "    for i in a_list:\n",
    "        i = i.lower()\n",
    "        if 'a' in i or 'e' in i or 'i' in i or 'o' in i or 'u' in i:\n",
    "            new_list.append(i.title())\n",
    "    print(new_list)\n",
    "vowels(string_list)\n",
    "\n"
   ]
  },
  {
   "cell_type": "markdown",
   "metadata": {},
   "source": [
    "### Exercise 4\n",
    "Create a function that accepts a list as a parameter and returns a dictionary containing the list items as it's keys, and the number of times they appear in the list as the values"
   ]
  },
  {
   "cell_type": "code",
   "execution_count": 78,
   "metadata": {},
   "outputs": [
    {
     "name": "stdout",
     "output_type": "stream",
     "text": [
      "{'Ron': 4, 'Harry': 3, 'Hermione': 2, 'Dobby': 1, 'Luna': 1, 'Draco': 1}\n",
      "{'Ron': 4, 'Harry': 3, 'Hermione': 2, 'Dobby': 1, 'Luna': 1, 'Draco': 1}\n"
     ]
    }
   ],
   "source": [
    "example_list = [\"Harry\", 'Hermione','Harry','Ron','Dobby','Draco','Luna','Harry','Hermione','Ron','Ron','Ron']\n",
    "\n",
    "# output = {\n",
    "#     \"Harry\":3,\n",
    "#     \"Hermione\":2,\n",
    "#     \"Ron\":4,\n",
    "#     \"Dobby\":1,\n",
    "#     \"Draco\":1,\n",
    "#     \"Luna\": 1\n",
    "# }\n",
    "\n",
    "new_dict = {}\n",
    "for i in set(example_list):\n",
    "    new_dict[i] = example_list.count(i)\n",
    "\n",
    "print(new_dict)\n",
    "\n",
    "def counter(example_list):\n",
    "    return {i : example_list.count(i) for i in set(example_list)}\n",
    "\n",
    "print(counter(example_list))\n"
   ]
  },
  {
   "cell_type": "markdown",
   "metadata": {},
   "source": [
    "\n",
    "\n",
    "## Scope <br>\n",
    "<p>Scope refers to the ability to access variables, different types of scope include:<br>a) Global<br>b) Function (local)<br>c) Class (local)</p>"
   ]
  },
  {
   "cell_type": "code",
   "execution_count": 79,
   "metadata": {},
   "outputs": [
    {
     "name": "stdout",
     "output_type": "stream",
     "text": [
      "3\n",
      "6\n"
     ]
    }
   ],
   "source": [
    "# placement of variable declaration matters\n",
    "\n",
    "number = 3 # Gloal Variable\n",
    "\n",
    "def myFunc():\n",
    "    num_3 = 6 # Local Function Variable\n",
    "    return num_3\n",
    "\n",
    "print(number)\n",
    "return_num = myFunc()\n",
    "print(return_num)\n"
   ]
  },
  {
   "cell_type": "code",
   "execution_count": 81,
   "metadata": {},
   "outputs": [],
   "source": [
    "#### Returning a function from a function"
   ]
  },
  {
   "cell_type": "code",
   "execution_count": 84,
   "metadata": {},
   "outputs": [
    {
     "name": "stdout",
     "output_type": "stream",
     "text": [
      "<function outer_func.<locals>.inner_func at 0x0000026209FD0B80>\n"
     ]
    },
    {
     "data": {
      "text/plain": [
       "'inner_func with added message'"
      ]
     },
     "execution_count": 84,
     "metadata": {},
     "output_type": "execute_result"
    }
   ],
   "source": [
    "def outer_func(text):\n",
    "\n",
    "    def inner_func():\n",
    "        return f\"inner_func with added {text}\"\n",
    "    return inner_func\n",
    "\n",
    "var = outer_func('message')\n",
    "print(var)\n",
    "var()"
   ]
  },
  {
   "cell_type": "code",
   "execution_count": 86,
   "metadata": {},
   "outputs": [
    {
     "ename": "SyntaxError",
     "evalue": "invalid syntax (2446526515.py, line 3)",
     "output_type": "error",
     "traceback": [
      "\u001b[1;36m  Input \u001b[1;32mIn [86]\u001b[1;36m\u001b[0m\n\u001b[1;33m    A decorator in Python is a function that takes another function as its argument, and returns yet another function .\u001b[0m\n\u001b[1;37m      ^\u001b[0m\n\u001b[1;31mSyntaxError\u001b[0m\u001b[1;31m:\u001b[0m invalid syntax\n"
     ]
    }
   ],
   "source": [
    "### Decorators\n",
    "\n",
    "A decorator in Python is a function that takes another function as its argument, and returns yet another function . \n",
    "Decorators can be extremely useful as they allow the extension of an existing function, without any modification to the original function source code.\n"
   ]
  },
  {
   "cell_type": "code",
   "execution_count": 87,
   "metadata": {},
   "outputs": [
    {
     "data": {
      "text/plain": [
       "'HELLO FROM THE RANGERS'"
      ]
     },
     "execution_count": 87,
     "metadata": {},
     "output_type": "execute_result"
    }
   ],
   "source": [
    "def print_hello():\n",
    "    return \"Hello from the Rangers\"\n",
    "\n",
    "#Decorator function to upper case text\n",
    "def uppercase_decorator(function):\n",
    "    def wrapper():\n",
    "        func = function()\n",
    "        make_uppercase = func.upper()\n",
    "        return make_uppercase\n",
    "    \n",
    "    return wrapper\n",
    "\n",
    "returned_func = uppercase_decorator(print_hello)\n",
    "returned_func()"
   ]
  },
  {
   "cell_type": "code",
   "execution_count": 88,
   "metadata": {},
   "outputs": [
    {
     "data": {
      "text/plain": [
       "'HELLO THERE.'"
      ]
     },
     "execution_count": 88,
     "metadata": {},
     "output_type": "execute_result"
    }
   ],
   "source": [
    "#Python Decorator Syntax\n",
    "@uppercase_decorator\n",
    "def say_hello():\n",
    "    return \"Hello there.\"\n",
    "\n",
    "say_hello()"
   ]
  },
  {
   "cell_type": "markdown",
   "metadata": {},
   "source": [
    "# Homework Exercises"
   ]
  },
  {
   "cell_type": "markdown",
   "metadata": {},
   "source": [
    "## Exercise 1 <br>\n",
    "<p>Given a list as a parameter,write a function that returns a list of numbers that are less than ten</b></i></p><br>\n",
    "<p> For example: Say your input parameter to the function is [1,11,14,5,8,9]...Your output should [1,5,8,9]</p>"
   ]
  },
  {
   "cell_type": "code",
   "execution_count": null,
   "metadata": {},
   "outputs": [],
   "source": [
    "alist = [1,11,14,5,8,9]\n",
    "print([item for item in alist if item < 10])"
   ]
  },
  {
   "cell_type": "code",
   "execution_count": 97,
   "metadata": {},
   "outputs": [
    {
     "name": "stdout",
     "output_type": "stream",
     "text": [
      "[1, 5, 8, 9]\n"
     ]
    },
    {
     "data": {
      "text/plain": [
       "[1, 5, 8, 9]"
      ]
     },
     "execution_count": 97,
     "metadata": {},
     "output_type": "execute_result"
    }
   ],
   "source": [
    "# Use the following list - [1,11,14,5,8,9]\n",
    "\n",
    "l_1 = [1,11,14,5,8,9]\n",
    "\n",
    "def under_ten(under_list):\n",
    "    return [item for item in under_list if item < 10]\n",
    "\n",
    "\n",
    "print(under_ten(l_1))\n",
    "\n",
    "def less_ten(arr):\n",
    "    new_list = []\n",
    "    for item in arr:\n",
    "        if item < 10:\n",
    "            new_list.append(item)\n",
    "    return new_list\n",
    "less_ten(l_1)\n"
   ]
  },
  {
   "cell_type": "markdown",
   "metadata": {},
   "source": [
    "## Exercise 2 <br>\n",
    "<p>Write a function that takes in two lists and returns the two lists merged together and sorted<br>\n",
    "<b><i>Hint: You can use the .sort() method</i></b></p>"
   ]
  },
  {
   "cell_type": "code",
   "execution_count": 98,
   "metadata": {},
   "outputs": [
    {
     "name": "stdout",
     "output_type": "stream",
     "text": [
      "[1, 2, 3, 3, 4, 4, 5, 5, 6, 6, 7, 8, 10]\n"
     ]
    }
   ],
   "source": [
    "l_1 = [1,2,3,4,5,6]\n",
    "l_2 = [3,4,5,6,7,8,10]\n",
    "\n",
    "l_3 = l_1 + l_2\n",
    "l_3.sort()\n",
    "print(l_3)\n"
   ]
  },
  {
   "cell_type": "code",
   "execution_count": 103,
   "metadata": {},
   "outputs": [
    {
     "data": {
      "text/plain": [
       "[1, 2, 3, 3, 4, 4, 5, 5, 6, 6, 7, 8, 10]"
      ]
     },
     "execution_count": 103,
     "metadata": {},
     "output_type": "execute_result"
    }
   ],
   "source": [
    "l_1 = [1,2,3,4,5,6]\n",
    "l_2 = [3,4,5,6,7,8,10]\n",
    "\n",
    "def sorted_list(arr):\n",
    "    l_3 = l_1 + l_2\n",
    "    l_3.sort()\n",
    "    return l_3\n",
    "sorted_list(l_3)"
   ]
  },
  {
   "cell_type": "code",
   "execution_count": null,
   "metadata": {},
   "outputs": [],
   "source": []
  }
 ],
 "metadata": {
  "kernelspec": {
   "display_name": "Python 3",
   "language": "python",
   "name": "python3"
  },
  "language_info": {
   "codemirror_mode": {
    "name": "ipython",
    "version": 3
   },
   "file_extension": ".py",
   "mimetype": "text/x-python",
   "name": "python",
   "nbconvert_exporter": "python",
   "pygments_lexer": "ipython3",
   "version": "3.9.9"
  }
 },
 "nbformat": 4,
 "nbformat_minor": 2
}
